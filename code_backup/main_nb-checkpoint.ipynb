{
 "cells": [
  {
   "cell_type": "code",
   "execution_count": 1,
   "metadata": {},
   "outputs": [],
   "source": [
    "import numpy as np\n",
    "import pandas as pd"
   ]
  },
  {
   "cell_type": "markdown",
   "metadata": {},
   "source": [
    "* Cosine similarity is a metric used to measure how similar the documents are irrespective of their size. Mathematically, it measures the cosine of the angle between two vectors projected in a multi-dimensional space. The cosine similarity is advantageous because even if the two similar documents are far apart by the Euclidean distance (due to the size of the document), chances are they may still be oriented closer together. The smaller the angle, higher the cosine similarity.\n",
    "\n",
    "\n",
    "\n",
    "* CountVectorizer is a great tool provided by the scikit-learn library in Python. It is used to transform a given text into a vector on the basis of the frequency (count) of each word that occurs in the entire text. This is helpful when we have multiple such texts, and we wish to convert each word in each text into vectors (for using in further text analysis).CountVectorizer creates a matrix in which each unique word is represented by a column of the matrix, and each text sample from the document is a row in the matrix. The value of each cell is nothing but the count of the word in that particular text sample. "
   ]
  },
  {
   "cell_type": "code",
   "execution_count": 2,
   "metadata": {},
   "outputs": [],
   "source": [
    "from flask import Flask, render_template, request\n",
    "from sklearn.feature_extraction.text import CountVectorizer\n",
    "from sklearn.metrics.pairwise import cosine_similarity\n",
    "import json\n",
    "import bs4 as bs\n",
    "import urllib.request\n",
    "import pickle\n",
    "import requests\n",
    "from datetime import date, datetime"
   ]
  },
  {
   "cell_type": "code",
   "execution_count": 3,
   "metadata": {},
   "outputs": [],
   "source": [
    "# load the pickel file and tfidf vectorizer from disk\n",
    "filename = 'movie_recommender_model.pkl'\n",
    "clf = pickle.load(open(filename, 'rb'))\n",
    "vectorizer = pickle.load(open('tranform.pkl','rb'))"
   ]
  },
  {
   "cell_type": "code",
   "execution_count": 4,
   "metadata": {},
   "outputs": [],
   "source": [
    "def create_similarity():\n",
    "    data = pd.read_csv('final_data.csv')\n",
    "    # Creating a count matrix\n",
    "    cv = CountVectorizer()\n",
    "    count_matrix = cv.fit_transform(data['comb'])\n",
    "    # Creating a similarity score matrix\n",
    "    similarity = cosine_similarity(count_matrix)\n",
    "    return data,similarity"
   ]
  },
  {
   "cell_type": "code",
   "execution_count": 5,
   "metadata": {},
   "outputs": [],
   "source": [
    "def recommend_movie(movie):\n",
    "    movie = movie.lower()\n",
    "    try:\n",
    "        data.head()\n",
    "        similarity.shape\n",
    "    except:\n",
    "        data, similarity = create_similarity()\n",
    "    if movie not in data['movie_title'].unique():\n",
    "        return('Sorry! The movie you requested is not in our database. Please check the spelling or try with some other movies')\n",
    "    else:\n",
    "        i = data.loc[data['movie_title']==movie].index[0]\n",
    "        lst = sorted(list(enumerate(similarity[i])), reverse=True, key = lambda x:x[1])\n",
    "        lst = lst[1:11] # Excluding first item since it is the requested movie itself and recommending the other 10 movies near it\n",
    "        l = []\n",
    "        for i in range(len(lst)):\n",
    "            a = lst[i][0]\n",
    "            l.append(data['movie_title'][a])\n",
    "        return l"
   ]
  },
  {
   "cell_type": "code",
   "execution_count": 6,
   "metadata": {},
   "outputs": [],
   "source": [
    "# Converting list of string to list (eg. '[\"abc\",\"def\"]' to [\"abc\",\"def\"])\n",
    "import ast\n",
    "\n",
    "def convert_to_list(my_list):\n",
    "    my_list = ast.literal_eval(my_list)\n",
    "#     my_list = my_list.split('\",\"')\n",
    "#     my_list[0] = my_list[0].replace('[\"','')\n",
    "#     my_list[-1] = my_list[-1].replace('\"]','')\n",
    "    return my_list"
   ]
  },
  {
   "cell_type": "code",
   "execution_count": 7,
   "metadata": {},
   "outputs": [
    {
     "data": {
      "text/plain": [
       "['abc', 'def']"
      ]
     },
     "execution_count": 7,
     "metadata": {},
     "output_type": "execute_result"
    }
   ],
   "source": [
    "list_of_strings = '[\"abc\",\"def\"]'\n",
    "x = convert_to_list(list_of_strings)\n",
    "x"
   ]
  },
  {
   "cell_type": "code",
   "execution_count": 8,
   "metadata": {},
   "outputs": [],
   "source": [
    "def get_suggestions():\n",
    "    data = pd.read_csv('final_data.csv')\n",
    "    return list(data['movie_title'].str.capitalize())"
   ]
  },
  {
   "cell_type": "code",
   "execution_count": 9,
   "metadata": {},
   "outputs": [],
   "source": [
    "app = Flask(__name__)\n",
    "\n",
    "@app.route(\"/\")\n",
    "@app.route(\"/home\")\n",
    "def home():\n",
    "    suggestions = get_suggestions()\n",
    "    return render_template('home.html',suggestions=suggestions)"
   ]
  },
  {
   "cell_type": "code",
   "execution_count": 10,
   "metadata": {},
   "outputs": [],
   "source": [
    "@app.route(\"/similarity\",methods=[\"POST\"])\n",
    "def similarity():\n",
    "    movie = request.form['name']\n",
    "    rcmd = recommend_movie(movie)\n",
    "    if type(rcmd)==type('string'):\n",
    "        return rcmd\n",
    "    else:\n",
    "        m_str=\"---\".join(rcmd)\n",
    "        return m_str"
   ]
  },
  {
   "cell_type": "code",
   "execution_count": 11,
   "metadata": {},
   "outputs": [],
   "source": [
    "@app.route(\"/recommend\",methods=[\"POST\"])\n",
    "def recommend():\n",
    "    if request.method == 'POST':\n",
    "        # getting data from AJAX request\n",
    "        title = request.form['title']\n",
    "        cast_ids = request.form['cast_ids']\n",
    "        cast_names = request.form['cast_names']\n",
    "        cast_chars = request.form['cast_chars']\n",
    "        cast_bdays = request.form['cast_bdays']\n",
    "        cast_bios = request.form['cast_bios']\n",
    "        cast_places = request.form['cast_places']\n",
    "        cast_profiles = request.form['cast_profiles']\n",
    "        imdb_id = request.form['imdb_id']\n",
    "        poster = request.form['poster']\n",
    "        genres = request.form['genres']\n",
    "        overview = request.form['overview']\n",
    "        vote_average = request.form['rating']\n",
    "        vote_count = request.form['vote_count']\n",
    "        release_date = request.form['release_date']\n",
    "        runtime = request.form['runtime']\n",
    "        status = request.form['status']\n",
    "        rec_movies = request.form['rec_movies']\n",
    "        rec_posters = request.form['rec_posters']\n",
    "\n",
    "        # get movie suggestions for auto complete\n",
    "        suggestions = get_suggestions()\n",
    "\n",
    "        # call the convert_to_list function for every string that needs to be converted to list\n",
    "        rec_movies = convert_to_list(rec_movies)\n",
    "        rec_posters = convert_to_list(rec_posters)\n",
    "        cast_names = convert_to_list(cast_names)\n",
    "        cast_chars = convert_to_list(cast_chars)\n",
    "        cast_profiles = convert_to_list(cast_profiles)\n",
    "        cast_bdays = convert_to_list(cast_bdays)\n",
    "        cast_bios = convert_to_list(cast_bios)\n",
    "        cast_places = convert_to_list(cast_places)\n",
    "\n",
    "        # convert string to list (eg. \"[1,2,3]\" to [1,2,3])\n",
    "        cast_ids = cast_ids.split(',')\n",
    "        cast_ids[0] = cast_ids[0].replace(\"[\",\"\")\n",
    "        cast_ids[-1] = cast_ids[-1].replace(\"]\",\"\")\n",
    "\n",
    "        # rendering the string to python string\n",
    "        for i in range(len(cast_bios)):\n",
    "            cast_bios[i] = cast_bios[i].replace(r'\\n', '\\n').replace(r'\\\"','\\\"')\n",
    "\n",
    "        # combining multiple lists as a dictionary which can be passed to the html file so that it can be processed easily and the order of information will be preserved\n",
    "        movie_cards = {rec_posters[i]: rec_movies[i] for i in range(len(rec_posters))}\n",
    "\n",
    "        casts = {cast_names[i]:[cast_ids[i], cast_chars[i], cast_profiles[i]] for i in range(len(cast_profiles))}\n",
    "\n",
    "        cast_details = {cast_names[i]:[cast_ids[i], cast_profiles[i], cast_bdays[i], cast_places[i], cast_bios[i]] for i in range(len(cast_places))}\n",
    "\n",
    "        # web scraping to get user reviews from IMDB site\n",
    "        sauce = urllib.request.urlopen('https://www.imdb.com/title/{}/reviews?ref_=tt_ov_rt'.format(imdb_id)).read()\n",
    "        soup = bs.BeautifulSoup(sauce,'lxml')\n",
    "        soup_result = soup.find_all(\"div\",{\"class\":\"text show-more__control\"})\n",
    "\n",
    "        reviews_list = [] # list of reviews\n",
    "        reviews_status = [] # list of comments (good or bad)\n",
    "        for reviews in soup_result:\n",
    "            if reviews.string:\n",
    "                reviews_list.append(reviews.string)\n",
    "                # passing the review to our model\n",
    "                movie_review_list = np.array([reviews.string])\n",
    "                movie_vector = vectorizer.transform(movie_review_list)\n",
    "                pred = clf.predict(movie_vector)\n",
    "                reviews_status.append('Good' if pred else 'Bad')\n",
    "\n",
    "        # combining reviews and comments into a dictionary\n",
    "        movie_reviews = {reviews_list[i]: reviews_status[i] for i in range(len(reviews_list))}     \n",
    "\n",
    "        # passing all the data to the html file\n",
    "        return render_template('recommend.html',title=title,poster=poster,overview=overview,vote_average=vote_average,\n",
    "            vote_count=vote_count,release_date=release_date,runtime=runtime,status=status,genres=genres,\n",
    "            movie_cards=movie_cards,reviews=movie_reviews,casts=casts,cast_details=cast_details)\n",
    "    else:\n",
    "        return \"This page only supports POST method\""
   ]
  },
  {
   "cell_type": "code",
   "execution_count": null,
   "metadata": {},
   "outputs": [
    {
     "name": "stdout",
     "output_type": "stream",
     "text": [
      " * Serving Flask app \"__main__\" (lazy loading)\n",
      " * Environment: production\n",
      "   WARNING: This is a development server. Do not use it in a production deployment.\n",
      "   Use a production WSGI server instead.\n",
      " * Debug mode: off\n"
     ]
    },
    {
     "name": "stderr",
     "output_type": "stream",
     "text": [
      " * Running on http://127.0.0.1:5000/ (Press CTRL+C to quit)\n",
      "127.0.0.1 - - [30/Jan/2023 19:44:41] \"\u001b[37mGET / HTTP/1.1\u001b[0m\" 200 -\n",
      "127.0.0.1 - - [30/Jan/2023 19:44:41] \"\u001b[33mGET /static/image.jpg HTTP/1.1\u001b[0m\" 404 -\n",
      "127.0.0.1 - - [30/Jan/2023 19:44:41] \"\u001b[33mGET /favicon.ico HTTP/1.1\u001b[0m\" 404 -\n",
      "127.0.0.1 - - [30/Jan/2023 19:44:55] \"\u001b[37mPOST /similarity HTTP/1.1\u001b[0m\" 200 -\n",
      "127.0.0.1 - - [30/Jan/2023 19:45:08] \"\u001b[37mPOST /similarity HTTP/1.1\u001b[0m\" 200 -\n",
      "127.0.0.1 - - [30/Jan/2023 19:45:57] \"\u001b[37mPOST /similarity HTTP/1.1\u001b[0m\" 200 -\n"
     ]
    }
   ],
   "source": [
    "if __name__ == '__main__':\n",
    "    app.run(debug=False)"
   ]
  },
  {
   "cell_type": "code",
   "execution_count": null,
   "metadata": {},
   "outputs": [],
   "source": [
    "%tb"
   ]
  },
  {
   "cell_type": "code",
   "execution_count": null,
   "metadata": {},
   "outputs": [],
   "source": []
  }
 ],
 "metadata": {
  "kernelspec": {
   "display_name": "Python 3",
   "language": "python",
   "name": "python3"
  },
  "language_info": {
   "codemirror_mode": {
    "name": "ipython",
    "version": 3
   },
   "file_extension": ".py",
   "mimetype": "text/x-python",
   "name": "python",
   "nbconvert_exporter": "python",
   "pygments_lexer": "ipython3",
   "version": "3.8.3"
  }
 },
 "nbformat": 4,
 "nbformat_minor": 4
}
